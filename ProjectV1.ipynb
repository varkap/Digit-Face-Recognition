{
 "cells": [
  {
   "cell_type": "code",
   "execution_count": 167,
   "metadata": {},
   "outputs": [],
   "source": [
    "import numpy as np"
   ]
  },
  {
   "cell_type": "code",
   "execution_count": 168,
   "metadata": {},
   "outputs": [],
   "source": [
    "digit_train_data_path = 'trainingimages'\n",
    "digit_train_label_path = 'traininglabels'\n",
    "digit_val_data_path = 'validationimages'\n",
    "digit_val_label_path = 'validationlabels'\n",
    "digit_test_data_path = 'testimages'\n",
    "digit_test_label_path = 'testlabels'\n",
    "\n",
    "face_train_data_path = 'facedatatrain'\n",
    "face_train_label_path = 'facedatatrainlabels'\n",
    "face_val_data_path = 'facedatavalidation'\n",
    "face_val_label_path = 'facedatavalidationlabels'\n",
    "face_test_data_path = 'facedatatest'\n",
    "face_test_label_path = 'facedatatestlabels'"
   ]
  },
  {
   "cell_type": "code",
   "execution_count": 169,
   "metadata": {},
   "outputs": [],
   "source": [
    "def convert_to_matrix(file_path):\n",
    "    imgs = []\n",
    "    curr_img = []\n",
    "    flag = False\n",
    "    with open(file_path, 'rb') as f:\n",
    "        for l in f:\n",
    "            l_cleaned = l.decode('utf-8').replace(' ', '').strip()\n",
    "            if l_cleaned:\n",
    "                curr_img.append(l.decode('utf-8'))\n",
    "            else:\n",
    "                if curr_img:\n",
    "                    imgs.append(curr_img)\n",
    "                curr_img = []\n",
    "    return imgs\n",
    "\n",
    "def get_label(label_path):\n",
    "    train_labels = []\n",
    "    with open(label_path, 'rb') as f:\n",
    "        for l in f:\n",
    "            if l.decode('utf-8').strip():\n",
    "                train_labels.append(int(l.decode('utf-8').strip()))\n",
    "    \n",
    "    return train_labels"
   ]
  },
  {
   "cell_type": "code",
   "execution_count": 170,
   "metadata": {},
   "outputs": [],
   "source": [
    "def make_features(imgs, n_dim):\n",
    "    image_features = np.zeros((len(imgs), n_dim), int)\n",
    "    for i, img in enumerate(imgs):\n",
    "        img_feat = []\n",
    "        for r in img:\n",
    "            r_cleaned = r.replace(' ', '0')\\\n",
    "                         .replace('\\n', '0')\\\n",
    "                         .replace('+', '1')\\\n",
    "                         .replace('#', '1')\n",
    "\n",
    "            r_cleaned = np.array(list(r_cleaned)).astype(np.uint8)\n",
    "            img_feat.append(r_cleaned)\n",
    "        m_unravel = np.array(img_feat).ravel().reshape(1, -1)\n",
    "        if m_unravel.shape[1] > n_dim:\n",
    "            m_unravel = m_unravel[:n_dim]\n",
    "        elif m_unravel.shape[1] < n_dim:\n",
    "            pad_len = n_dim - m_unravel.shape[1]\n",
    "            padd_val = np.zeros((1, pad_len))\n",
    "            m_unravel = np.hstack((m_unravel, padd_val))\n",
    "\n",
    "        image_features[i] = m_unravel\n",
    "    return image_features"
   ]
  },
  {
   "cell_type": "markdown",
   "metadata": {},
   "source": [
    "### Featurize Digits Train"
   ]
  },
  {
   "cell_type": "code",
   "execution_count": 171,
   "metadata": {},
   "outputs": [],
   "source": [
    "imgs = convert_to_matrix(digit_train_data_path)\n",
    "\n",
    "bad_imgs = []\n",
    "for i__, im in enumerate(imgs):\n",
    "    if len(im) < 10:\n",
    "        bad_imgs.append(i__)\n",
    "        \n",
    "# for k in bad_imgs:\n",
    "#     imgs.pop(k)\n",
    "\n",
    "imgs = np.delete(np.array(imgs), bad_imgs, axis=0)"
   ]
  },
  {
   "cell_type": "code",
   "execution_count": 172,
   "metadata": {},
   "outputs": [],
   "source": [
    "digit_train_X = make_features(imgs, 580)"
   ]
  },
  {
   "cell_type": "code",
   "execution_count": 173,
   "metadata": {},
   "outputs": [],
   "source": [
    "digit_train_y = get_label(digit_train_label_path)"
   ]
  },
  {
   "cell_type": "code",
   "execution_count": 174,
   "metadata": {},
   "outputs": [
    {
     "data": {
      "text/plain": [
       "(5000, 580)"
      ]
     },
     "execution_count": 174,
     "metadata": {},
     "output_type": "execute_result"
    }
   ],
   "source": [
    "digit_train_X.shape"
   ]
  },
  {
   "cell_type": "code",
   "execution_count": 175,
   "metadata": {},
   "outputs": [
    {
     "data": {
      "text/plain": [
       "5000"
      ]
     },
     "execution_count": 175,
     "metadata": {},
     "output_type": "execute_result"
    }
   ],
   "source": [
    "len(digit_train_y)"
   ]
  },
  {
   "cell_type": "markdown",
   "metadata": {},
   "source": [
    "### Featurize Digits Validation"
   ]
  },
  {
   "cell_type": "code",
   "execution_count": 176,
   "metadata": {},
   "outputs": [],
   "source": [
    "imgs = convert_to_matrix(digit_val_data_path)\n",
    "\n",
    "bad_imgs = []\n",
    "for i__, im in enumerate(imgs):\n",
    "    if len(im) < 10:\n",
    "        bad_imgs.append(i__)\n",
    "        \n",
    "# for k in bad_imgs:\n",
    "#     imgs.pop(k)\n",
    "\n",
    "imgs = np.delete(np.array(imgs), bad_imgs, axis=0)"
   ]
  },
  {
   "cell_type": "code",
   "execution_count": 177,
   "metadata": {},
   "outputs": [],
   "source": [
    "digit_val_X = make_features(imgs, 580)"
   ]
  },
  {
   "cell_type": "code",
   "execution_count": 178,
   "metadata": {},
   "outputs": [],
   "source": [
    "digit_val_y = get_label(digit_val_label_path)"
   ]
  },
  {
   "cell_type": "code",
   "execution_count": 179,
   "metadata": {},
   "outputs": [
    {
     "data": {
      "text/plain": [
       "(1000, 580)"
      ]
     },
     "execution_count": 179,
     "metadata": {},
     "output_type": "execute_result"
    }
   ],
   "source": [
    "digit_val_X.shape"
   ]
  },
  {
   "cell_type": "code",
   "execution_count": 180,
   "metadata": {},
   "outputs": [
    {
     "data": {
      "text/plain": [
       "1000"
      ]
     },
     "execution_count": 180,
     "metadata": {},
     "output_type": "execute_result"
    }
   ],
   "source": [
    "len(digit_val_y)"
   ]
  },
  {
   "cell_type": "markdown",
   "metadata": {},
   "source": [
    "### Featurize Digits Test"
   ]
  },
  {
   "cell_type": "code",
   "execution_count": 181,
   "metadata": {},
   "outputs": [],
   "source": [
    "imgs = convert_to_matrix(digit_test_data_path)\n",
    "\n",
    "bad_imgs = []\n",
    "for i__, im in enumerate(imgs):\n",
    "    if len(im) < 10:\n",
    "        bad_imgs.append(i__)\n",
    "        \n",
    "# for k in bad_imgs:\n",
    "#     imgs.pop(k)\n",
    "\n",
    "imgs = np.delete(np.array(imgs), bad_imgs, axis=0)"
   ]
  },
  {
   "cell_type": "code",
   "execution_count": 182,
   "metadata": {},
   "outputs": [
    {
     "data": {
      "text/plain": [
       "(1000, 580)"
      ]
     },
     "execution_count": 182,
     "metadata": {},
     "output_type": "execute_result"
    }
   ],
   "source": [
    "digit_test_X = make_features(imgs, 580)\n",
    "digit_test_y = get_label(digit_test_label_path)\n",
    "digit_test_X.shape"
   ]
  },
  {
   "cell_type": "code",
   "execution_count": 183,
   "metadata": {},
   "outputs": [
    {
     "data": {
      "text/plain": [
       "1000"
      ]
     },
     "execution_count": 183,
     "metadata": {},
     "output_type": "execute_result"
    }
   ],
   "source": [
    "len(digit_test_y)\n"
   ]
  },
  {
   "cell_type": "code",
   "execution_count": null,
   "metadata": {},
   "outputs": [],
   "source": []
  },
  {
   "cell_type": "markdown",
   "metadata": {},
   "source": [
    "### Featurize Face Data"
   ]
  },
  {
   "cell_type": "markdown",
   "metadata": {},
   "source": [
    "conditions:\n",
    "    - greater than 65\n",
    "    - where the line is empty "
   ]
  },
  {
   "cell_type": "markdown",
   "metadata": {},
   "source": [
    "Today:\n",
    "    - convert all remaining datasets to features\n",
    "        - digit val\n",
    "        - digit test\n",
    "        - face val\n",
    "        - face test\n",
    "    - build a model "
   ]
  },
  {
   "cell_type": "code",
   "execution_count": 51,
   "metadata": {},
   "outputs": [],
   "source": [
    "def faces_convert_to_matrix(face_train_data_path):\n",
    "    main_l = []\n",
    "    tmp_l = []\n",
    "    cnt = 0\n",
    "    with open(face_train_data_path, 'rb') as f:\n",
    "        for l in f:\n",
    "            l_cleaned = l.decode('utf-8').replace(' ', '').strip()\n",
    "            cnt += 1\n",
    "            if cnt < 65:\n",
    "                tmp_l.append(l.decode('utf-8'))     \n",
    "            elif cnt >= 65 and l_cleaned:\n",
    "                continue\n",
    "            elif cnt >= 65 and not l_cleaned:\n",
    "                main_l.append(tmp_l)\n",
    "                cnt = 0\n",
    "                tmp_l = []\n",
    "    return main_l"
   ]
  },
  {
   "cell_type": "markdown",
   "metadata": {},
   "source": [
    "### Train"
   ]
  },
  {
   "cell_type": "code",
   "execution_count": 125,
   "metadata": {},
   "outputs": [],
   "source": [
    "faces_imgs = faces_convert_to_matrix(face_train_data_path)\n",
    "face_train_X = make_features(faces_imgs, 3904)\n",
    "face_train_y = get_label(face_train_label_path)"
   ]
  },
  {
   "cell_type": "code",
   "execution_count": 126,
   "metadata": {},
   "outputs": [
    {
     "data": {
      "text/plain": [
       "(451, 3904)"
      ]
     },
     "execution_count": 126,
     "metadata": {},
     "output_type": "execute_result"
    }
   ],
   "source": [
    "face_train_X.shape"
   ]
  },
  {
   "cell_type": "code",
   "execution_count": 127,
   "metadata": {},
   "outputs": [
    {
     "data": {
      "text/plain": [
       "451"
      ]
     },
     "execution_count": 127,
     "metadata": {},
     "output_type": "execute_result"
    }
   ],
   "source": [
    "len(face_train_y)"
   ]
  },
  {
   "cell_type": "markdown",
   "metadata": {},
   "source": [
    "### Validation"
   ]
  },
  {
   "cell_type": "code",
   "execution_count": 128,
   "metadata": {},
   "outputs": [],
   "source": [
    "faces_imgs = faces_convert_to_matrix(face_val_data_path)\n",
    "face_val_X = make_features(faces_imgs, 3904)\n",
    "face_val_y = get_label(face_val_label_path)"
   ]
  },
  {
   "cell_type": "code",
   "execution_count": 129,
   "metadata": {},
   "outputs": [
    {
     "data": {
      "text/plain": [
       "(301, 3904)"
      ]
     },
     "execution_count": 129,
     "metadata": {},
     "output_type": "execute_result"
    }
   ],
   "source": [
    "face_val_X.shape"
   ]
  },
  {
   "cell_type": "code",
   "execution_count": 130,
   "metadata": {},
   "outputs": [
    {
     "data": {
      "text/plain": [
       "301"
      ]
     },
     "execution_count": 130,
     "metadata": {},
     "output_type": "execute_result"
    }
   ],
   "source": [
    "len(face_val_y)"
   ]
  },
  {
   "cell_type": "markdown",
   "metadata": {},
   "source": [
    "### Test"
   ]
  },
  {
   "cell_type": "code",
   "execution_count": 131,
   "metadata": {},
   "outputs": [],
   "source": [
    "faces_imgs = faces_convert_to_matrix(face_test_data_path)\n",
    "face_test_X = make_features(faces_imgs, 3904)\n",
    "face_test_y = get_label(face_test_label_path)"
   ]
  },
  {
   "cell_type": "code",
   "execution_count": 132,
   "metadata": {},
   "outputs": [
    {
     "data": {
      "text/plain": [
       "(150, 3904)"
      ]
     },
     "execution_count": 132,
     "metadata": {},
     "output_type": "execute_result"
    }
   ],
   "source": [
    "face_test_X.shape"
   ]
  },
  {
   "cell_type": "code",
   "execution_count": 133,
   "metadata": {},
   "outputs": [
    {
     "data": {
      "text/plain": [
       "150"
      ]
     },
     "execution_count": 133,
     "metadata": {},
     "output_type": "execute_result"
    }
   ],
   "source": [
    "len(face_test_y)"
   ]
  },
  {
   "cell_type": "code",
   "execution_count": null,
   "metadata": {},
   "outputs": [],
   "source": []
  },
  {
   "cell_type": "markdown",
   "metadata": {},
   "source": [
    "### Model Building - Perceptron"
   ]
  },
  {
   "cell_type": "markdown",
   "metadata": {},
   "source": [
    "Components:\n",
    "    - gradient descent\n",
    "    - weight update based on batch GD\n",
    "    - iteration"
   ]
  },
  {
   "cell_type": "code",
   "execution_count": 161,
   "metadata": {},
   "outputs": [],
   "source": [
    "digits_n_dims = 580\n",
    "faces_n_dims = 3904\n",
    "\n",
    "digits_n_classes = 10\n",
    "faces_n_classes = 2\n",
    "\n",
    "alpha = 0.01\n",
    "epochs = 20"
   ]
  },
  {
   "cell_type": "code",
   "execution_count": null,
   "metadata": {},
   "outputs": [],
   "source": [
    "[0.45,30,0.46,65,34,31,9, 8, 0.5, 2] = 3"
   ]
  },
  {
   "cell_type": "code",
   "execution_count": 150,
   "metadata": {},
   "outputs": [],
   "source": [
    "def init_weight(n_dims, n_classes):\n",
    "    return np.random.rand(n_classes, n_dims + 1)\n",
    "\n",
    "def predict(w, x):\n",
    "    pred_val = np.dot(w, np.append(x, 1))\n",
    "    return np.argmax(pred_val)\n",
    "\n",
    "# Back prop\n",
    "def w_update(x, y, pred_class, alpha=alpha):\n",
    "    w_tmp = w[pred_class]\n",
    "    w[y] += alpha + np.append(x, 1) # add a bias term to your x\n",
    "    w[pred_class] -= alpha * np.append(x, 1)"
   ]
  },
  {
   "cell_type": "code",
   "execution_count": 154,
   "metadata": {},
   "outputs": [],
   "source": [
    "## train\n",
    "def train(epochs, x_train, y_train):\n",
    "    num = len(y_train)\n",
    "    for j in range(0, epochs):\n",
    "        acc = 0\n",
    "        order = np.random.permutation(num)\n",
    "        for i in range(0, num):\n",
    "            x_ = x_train[order[i]]\n",
    "            y_ = y_train[order[i]]\n",
    "            \n",
    "            y_hat = predict(w, x_)\n",
    "            \n",
    "            if y_hat == y_:\n",
    "                acc += 1\n",
    "            else:\n",
    "                w_update(x_.reshape(-1, 1), y_, y_hat)\n",
    "        \n",
    "        accuracy = acc / float(num)\n",
    "        print('Iteration {}: acc = {}'.format(j+1, accuracy*100))"
   ]
  },
  {
   "cell_type": "code",
   "execution_count": 155,
   "metadata": {},
   "outputs": [],
   "source": [
    "## test\n",
    "def test(x_test, y_test):\n",
    "    num = len(y_test)\n",
    "    acc = 0\n",
    "    for i in range(0, num):\n",
    "        x_ = x_test[i]\n",
    "        y_ = y_test[i]\n",
    "        \n",
    "        y_hat = predict(w, x_)\n",
    "        \n",
    "        if y_hat == y_:\n",
    "            acc += 1\n",
    "    \n",
    "    accuracy = acc/float(num)\n",
    "    return accuracy*100"
   ]
  },
  {
   "cell_type": "code",
   "execution_count": null,
   "metadata": {},
   "outputs": [],
   "source": []
  },
  {
   "cell_type": "markdown",
   "metadata": {},
   "source": [
    "### Train digits model"
   ]
  },
  {
   "cell_type": "code",
   "execution_count": 147,
   "metadata": {},
   "outputs": [],
   "source": [
    "w = init_weight(digits_n_dims, digits_n_classes)"
   ]
  },
  {
   "cell_type": "code",
   "execution_count": 156,
   "metadata": {},
   "outputs": [
    {
     "name": "stdout",
     "output_type": "stream",
     "text": [
      "Iteration 1: acc = 78.38000000000001\n",
      "Iteration 2: acc = 85.86\n",
      "Iteration 3: acc = 86.28\n",
      "Iteration 4: acc = 86.46000000000001\n",
      "Iteration 5: acc = 87.52\n",
      "Iteration 6: acc = 87.5\n",
      "Iteration 7: acc = 87.62\n",
      "Iteration 8: acc = 87.53999999999999\n",
      "Iteration 9: acc = 88.02\n",
      "Iteration 10: acc = 88.24\n",
      "Iteration 11: acc = 88.06\n",
      "Iteration 12: acc = 88.28\n",
      "Iteration 13: acc = 88.24\n",
      "Iteration 14: acc = 88.08\n",
      "Iteration 15: acc = 88.48\n",
      "Iteration 16: acc = 88.48\n",
      "Iteration 17: acc = 88.56\n",
      "Iteration 18: acc = 88.34\n",
      "Iteration 19: acc = 88.94\n",
      "Iteration 20: acc = 88.1\n"
     ]
    }
   ],
   "source": [
    "train(epochs, digit_train_X, digit_train_y)"
   ]
  },
  {
   "cell_type": "code",
   "execution_count": 157,
   "metadata": {},
   "outputs": [
    {
     "data": {
      "text/plain": [
       "82.8"
      ]
     },
     "execution_count": 157,
     "metadata": {},
     "output_type": "execute_result"
    }
   ],
   "source": [
    "test(digit_val_X, digit_val_y)"
   ]
  },
  {
   "cell_type": "code",
   "execution_count": 158,
   "metadata": {},
   "outputs": [
    {
     "data": {
      "text/plain": [
       "83.3"
      ]
     },
     "execution_count": 158,
     "metadata": {},
     "output_type": "execute_result"
    }
   ],
   "source": [
    "test(digit_test_X, digit_test_y)"
   ]
  },
  {
   "cell_type": "code",
   "execution_count": null,
   "metadata": {},
   "outputs": [],
   "source": []
  },
  {
   "cell_type": "code",
   "execution_count": null,
   "metadata": {},
   "outputs": [],
   "source": []
  },
  {
   "cell_type": "markdown",
   "metadata": {},
   "source": [
    "### Train faces model"
   ]
  },
  {
   "cell_type": "code",
   "execution_count": 162,
   "metadata": {},
   "outputs": [],
   "source": [
    "w = init_weight(faces_n_dims, faces_n_classes)"
   ]
  },
  {
   "cell_type": "code",
   "execution_count": 163,
   "metadata": {},
   "outputs": [
    {
     "data": {
      "text/plain": [
       "(2, 3905)"
      ]
     },
     "execution_count": 163,
     "metadata": {},
     "output_type": "execute_result"
    }
   ],
   "source": [
    "w.shape"
   ]
  },
  {
   "cell_type": "code",
   "execution_count": 164,
   "metadata": {},
   "outputs": [
    {
     "name": "stdout",
     "output_type": "stream",
     "text": [
      "Iteration 1: acc = 66.07538802660754\n",
      "Iteration 2: acc = 90.46563192904657\n",
      "Iteration 3: acc = 96.23059866962306\n",
      "Iteration 4: acc = 99.33481152993349\n",
      "Iteration 5: acc = 99.55654101995566\n",
      "Iteration 6: acc = 100.0\n",
      "Iteration 7: acc = 100.0\n",
      "Iteration 8: acc = 100.0\n",
      "Iteration 9: acc = 100.0\n",
      "Iteration 10: acc = 100.0\n",
      "Iteration 11: acc = 100.0\n",
      "Iteration 12: acc = 100.0\n",
      "Iteration 13: acc = 100.0\n",
      "Iteration 14: acc = 100.0\n",
      "Iteration 15: acc = 100.0\n",
      "Iteration 16: acc = 100.0\n",
      "Iteration 17: acc = 100.0\n",
      "Iteration 18: acc = 100.0\n",
      "Iteration 19: acc = 100.0\n",
      "Iteration 20: acc = 100.0\n"
     ]
    }
   ],
   "source": [
    "train(epochs, face_train_X, face_train_y)"
   ]
  },
  {
   "cell_type": "code",
   "execution_count": 165,
   "metadata": {},
   "outputs": [
    {
     "data": {
      "text/plain": [
       "86.37873754152824"
      ]
     },
     "execution_count": 165,
     "metadata": {},
     "output_type": "execute_result"
    }
   ],
   "source": [
    "test(face_val_X, face_val_y)"
   ]
  },
  {
   "cell_type": "code",
   "execution_count": 166,
   "metadata": {},
   "outputs": [
    {
     "data": {
      "text/plain": [
       "85.33333333333334"
      ]
     },
     "execution_count": 166,
     "metadata": {},
     "output_type": "execute_result"
    }
   ],
   "source": [
    "test(face_test_X, face_test_y)"
   ]
  },
  {
   "cell_type": "code",
   "execution_count": null,
   "metadata": {},
   "outputs": [],
   "source": []
  },
  {
   "cell_type": "code",
   "execution_count": null,
   "metadata": {},
   "outputs": [],
   "source": []
  },
  {
   "cell_type": "markdown",
   "metadata": {},
   "source": [
    "### Model - Naive Bayes"
   ]
  },
  {
   "cell_type": "code",
   "execution_count": 188,
   "metadata": {},
   "outputs": [],
   "source": [
    "import numpy as np\n",
    "from sklearn.datasets import fetch_openml\n",
    "from scipy.stats import norm\n",
    "from scipy.stats import multivariate_normal as mvn\n",
    "import time"
   ]
  },
  {
   "cell_type": "code",
   "execution_count": 198,
   "metadata": {},
   "outputs": [],
   "source": [
    "class NaiveBayes(object):\n",
    "    def fit(self, X, y, smoothing=10e-3):\n",
    "        self.gaussians = dict()\n",
    "        self.priors = dict()\n",
    "        labels = set(y)\n",
    "        for c in labels:\n",
    "            current_x = X[y == c]\n",
    "            self.gaussians[c] = {\n",
    "                'mean': current_x.mean(axis=0),\n",
    "                'var': current_x.var(axis=0) + smoothing, \n",
    "            }\n",
    "            self.priors[c] = float(len(y[y==c])) / len(y)\n",
    "            \n",
    "    def score(self, X, y):\n",
    "        p = self.predict(X)\n",
    "        return np.mean(p == y)\n",
    "    \n",
    "    def predict(self, X):\n",
    "        N, D = X.shape\n",
    "        K =len(self.gaussians)\n",
    "        P = np.zeros((N, K))\n",
    "        for c, g in self.gaussians.items():\n",
    "            mean, var = g['mean'], g['var']\n",
    "            P[:, c] = mvn.logpdf(X, mean=mean, cov=var) + np.log(self.priors[c])\n",
    "        return np.argmax(P, axis=1)"
   ]
  },
  {
   "cell_type": "markdown",
   "metadata": {},
   "source": [
    "#### Naive Bayes on Digits"
   ]
  },
  {
   "cell_type": "code",
   "execution_count": 199,
   "metadata": {},
   "outputs": [
    {
     "name": "stdout",
     "output_type": "stream",
     "text": [
      "Training time: 0.023715734481811523\n",
      "Train accuracy 0.7942\n",
      "Validation accuracy 0.759\n",
      "Test accuracy: 0.685\n"
     ]
    }
   ],
   "source": [
    "X_train, y_train = digit_train_X, np.array(digit_train_y)\n",
    "X_val, y_val = digit_val_X, np.array(digit_val_y)\n",
    "X_test, y_test = digit_test_X, np.array(digit_test_y)\n",
    "\n",
    "model = NaiveBayes()\n",
    "t0 = time.time()\n",
    "model.fit(X_train, y_train)\n",
    "print (\"Training time:\", time.time() - t0)\n",
    "\n",
    "print(\"Train accuracy\", model.score(X_train, y_train))\n",
    "print(\"Validation accuracy\", model.score(X_val, y_val))\n",
    "print(\"Test accuracy:\", model.score(X_test, y_test))"
   ]
  },
  {
   "cell_type": "markdown",
   "metadata": {},
   "source": [
    "#### Naive Bayes on Faces Data"
   ]
  },
  {
   "cell_type": "code",
   "execution_count": 200,
   "metadata": {},
   "outputs": [
    {
     "name": "stdout",
     "output_type": "stream",
     "text": [
      "Training time: 0.04402589797973633\n",
      "Train accuracy 0.9201773835920177\n",
      "Validation accuracy 0.8604651162790697\n",
      "Test accuracy: 0.8733333333333333\n"
     ]
    }
   ],
   "source": [
    "X_train, y_train = face_train_X, np.array(face_train_y)\n",
    "X_val, y_val = face_val_X, np.array(face_val_y)\n",
    "X_test, y_test = face_test_X, np.array(face_test_y)\n",
    "\n",
    "model = NaiveBayes()\n",
    "t0 = time.time()\n",
    "model.fit(X_train, y_train)\n",
    "print (\"Training time:\", time.time() - t0)\n",
    "\n",
    "print(\"Train accuracy\", model.score(X_train, y_train))\n",
    "print(\"Validation accuracy\", model.score(X_val, y_val))\n",
    "print(\"Test accuracy:\", model.score(X_test, y_test))"
   ]
  },
  {
   "cell_type": "code",
   "execution_count": null,
   "metadata": {},
   "outputs": [],
   "source": []
  }
 ],
 "metadata": {
  "kernelspec": {
   "display_name": "Python 3",
   "language": "python",
   "name": "python3"
  },
  "language_info": {
   "codemirror_mode": {
    "name": "ipython",
    "version": 3
   },
   "file_extension": ".py",
   "mimetype": "text/x-python",
   "name": "python",
   "nbconvert_exporter": "python",
   "pygments_lexer": "ipython3",
   "version": "3.7.6"
  }
 },
 "nbformat": 4,
 "nbformat_minor": 4
}
